{
  "nbformat": 4,
  "nbformat_minor": 0,
  "metadata": {
    "colab": {
      "provenance": [],
      "authorship_tag": "ABX9TyMQeFwe13N+dawZstiXVCZ2",
      "include_colab_link": true
    },
    "kernelspec": {
      "name": "python3",
      "display_name": "Python 3"
    },
    "language_info": {
      "name": "python"
    }
  },
  "cells": [
    {
      "cell_type": "markdown",
      "metadata": {
        "id": "view-in-github",
        "colab_type": "text"
      },
      "source": [
        "<a href=\"https://colab.research.google.com/github/prithwi3/Machine-Learning/blob/main/ML5.ipynb\" target=\"_parent\"><img src=\"https://colab.research.google.com/assets/colab-badge.svg\" alt=\"Open In Colab\"/></a>"
      ]
    },
    {
      "cell_type": "code",
      "execution_count": null,
      "metadata": {
        "colab": {
          "base_uri": "https://localhost:8080/"
        },
        "id": "432G75dLOZWe",
        "outputId": "c6c3a5a6-ebba-483b-928f-77efa0a9ad50"
      },
      "outputs": [
        {
          "output_type": "stream",
          "name": "stdout",
          "text": [
            "-17\n"
          ]
        }
      ],
      "source": [
        "list = [7,5,4,4,3,1,-2,-3,-5,-7]\n",
        "\n",
        "total = 0\n",
        "i = len(list) - 1\n",
        "while list[i] < 0:\n",
        "  total += list[i]\n",
        "  i -= 1\n",
        "print(total)\n",
        "\n"
      ]
    }
  ]
}